{
 "cells": [
  {
   "cell_type": "markdown",
   "metadata": {},
   "source": [
    "### 1. What is Object-Oriented Programming (OOP)?\n",
    "\n",
    "A framework that focuses on classes that define objects and interactions within them. It offers an alternative to structural programming where calls are made in sequence and follow a chronological logic.\n",
    "\n",
    "A class is an abstracttions or representations that can be implemented to smaller elements. objects are created on the image of a class.\n",
    "### 2. The Dive \n",
    "\n",
    "Let's see how a class is created by making an empty class."
   ]
  },
  {
   "cell_type": "code",
   "execution_count": 37,
   "metadata": {},
   "outputs": [],
   "source": [
    "class Planet:\n",
    "    pass"
   ]
  },
  {
   "cell_type": "markdown",
   "metadata": {},
   "source": [
    "Note that an object can already by made based on Planet but the class really does nothing"
   ]
  },
  {
   "cell_type": "code",
   "execution_count": 38,
   "metadata": {},
   "outputs": [
    {
     "name": "stdout",
     "output_type": "stream",
     "text": [
      "['__class__', '__delattr__', '__dict__', '__dir__', '__doc__', '__eq__', '__format__', '__ge__', '__getattribute__', '__gt__', '__hash__', '__init__', '__init_subclass__', '__le__', '__lt__', '__module__', '__ne__', '__new__', '__reduce__', '__reduce_ex__', '__repr__', '__setattr__', '__sizeof__', '__str__', '__subclasshook__', '__weakref__']\n"
     ]
    }
   ],
   "source": [
    "jupiter = Planet() # Create a new instance of the Planet class\n",
    "\n",
    "print(dir(jupiter)) # Print all the attributes and methods of the Planet class"
   ]
  },
  {
   "cell_type": "markdown",
   "metadata": {},
   "source": [
    "The output above is all marked by __ x __ which are default attributes or methods.\n",
    "\n",
    "So let's just add some good stuff to the class.\n",
    "\n",
    "### 2.1 Class Attributes\n",
    "\n",
    "Explaination: Class attributes are shared by all instances of the class. Which means they are there by default. The are also unchangable from an instance.\n",
    " <br> Use case(s): To set a minimum. Something that we don't want to change. <br> Syntax: As a usual variable. Conventionally all caps letters.\n",
    "\n",
    "In this case: We'll set the definition of a planet by diameter."
   ]
  },
  {
   "cell_type": "code",
   "execution_count": 39,
   "metadata": {},
   "outputs": [],
   "source": [
    "class Planet:\n",
    "    SHAPE = \"spherical\" # Class attributes are conventionally denoted with all caps"
   ]
  },
  {
   "cell_type": "code",
   "execution_count": 40,
   "metadata": {},
   "outputs": [],
   "source": [
    "jupiter = Planet()"
   ]
  },
  {
   "cell_type": "markdown",
   "metadata": {},
   "source": [
    "Test whether Jupiter's definition worked!"
   ]
  },
  {
   "cell_type": "code",
   "execution_count": 41,
   "metadata": {},
   "outputs": [
    {
     "name": "stdout",
     "output_type": "stream",
     "text": [
      "Jupiter's shape is spherical\n"
     ]
    }
   ],
   "source": [
    "print(f\"Jupiter's shape is {jupiter.SHAPE}\")"
   ]
  },
  {
   "cell_type": "markdown",
   "metadata": {},
   "source": [
    "### 2.2 The Constructor\n",
    "\n",
    "The constructor is a function with the following syntax:\n",
    "```python\n",
    "def __init__(self ,args*, kwargs**):\n",
    "    self.attr = arg\n",
    "```\n",
    "\n",
    "Explaination: It runs automatically when a class instance is called. \n",
    "<br> Use case(s): It creates attributes specific to the instance when it's created.\n",
    "<br> Syntax: Like above, note the the arg self should always be the first arg, it refers to the instance itself.\n",
    "\n",
    "In this case: Interesting characteristics usual for planets are made, such as name, radius, galaxy and distance from earth in millions of kilometers on average."
   ]
  },
  {
   "cell_type": "code",
   "execution_count": 42,
   "metadata": {},
   "outputs": [],
   "source": [
    "class Planet:\n",
    "    SHAPE = \"spherical\"\n",
    "\n",
    "    def __init__(self, name, radius, distance):\n",
    "        self.name = name\n",
    "        self.radius = radius\n",
    "        self.distance = distance\n",
    "        self.shape = self.SHAPE # This will always be there, without inputing it.\n",
    "    "
   ]
  },
  {
   "cell_type": "code",
   "execution_count": 43,
   "metadata": {},
   "outputs": [],
   "source": [
    "jupiter = Planet(\"Jupiter\", 69911, 778)"
   ]
  },
  {
   "cell_type": "code",
   "execution_count": 44,
   "metadata": {},
   "outputs": [
    {
     "name": "stdout",
     "output_type": "stream",
     "text": [
      "Jupiter\n"
     ]
    }
   ],
   "source": [
    "print(jupiter.name)"
   ]
  },
  {
   "cell_type": "code",
   "execution_count": 45,
   "metadata": {},
   "outputs": [
    {
     "name": "stdout",
     "output_type": "stream",
     "text": [
      "69911\n"
     ]
    }
   ],
   "source": [
    "print(jupiter.radius)"
   ]
  },
  {
   "cell_type": "code",
   "execution_count": 46,
   "metadata": {},
   "outputs": [
    {
     "name": "stdout",
     "output_type": "stream",
     "text": [
      "778\n"
     ]
    }
   ],
   "source": [
    "print(jupiter.distance)"
   ]
  },
  {
   "cell_type": "markdown",
   "metadata": {},
   "source": [
    "Quite tedious to call print on every attribute whenever we want to see. On top of that it violates the DRY (Don't Repeat Yourself) recommendation. \n",
    "\n",
    "This can easily be solved by creating an info method in the class.\n",
    "\n",
    "### 2.3 Instance Methods\n",
    "\n",
    "```python\n",
    "def method(slef, arg):\n",
    "    self.attr = calls_on_arg\n",
    "```\n",
    "\n",
    "Explaination: Function that can be called from an instance.\n",
    "<br> Use case(s): The use cases of methods is almost infinite. Manipulate, convert, open, etc.\n",
    "<br> Syntax: Usual function.\n",
    "\n",
    "In this case: We will create a function that neatly prints out the attributes with better detail.\n"
   ]
  },
  {
   "cell_type": "code",
   "execution_count": 47,
   "metadata": {},
   "outputs": [],
   "source": [
    "class Planet:\n",
    "    SHAPE = \"spherical\"\n",
    "\n",
    "    def __init__(self, name, radius, distance):\n",
    "        self.name = name\n",
    "        self.radius = radius\n",
    "        self.distance = distance\n",
    "        self.shape = self.SHAPE # This define as instance attribute without explicit input.\n",
    "    \n",
    "    def info(self):\n",
    "        print(f\"{self.name} is a planet with a radius of {self.radius} km and a distance of {self.distance} million km from earth\")"
   ]
  },
  {
   "cell_type": "code",
   "execution_count": 48,
   "metadata": {},
   "outputs": [],
   "source": [
    "jupiter = Planet(\"Jupiter\", 69911, 778)"
   ]
  },
  {
   "cell_type": "code",
   "execution_count": 49,
   "metadata": {},
   "outputs": [
    {
     "name": "stdout",
     "output_type": "stream",
     "text": [
      "Jupiter is a planet with a radius of 69911 km and a distance of 778 million km from earth\n"
     ]
    }
   ],
   "source": [
    "jupiter.info()"
   ]
  },
  {
   "cell_type": "markdown",
   "metadata": {},
   "source": [
    "Quite neat.\n",
    "\n",
    "Now there are more details to the problem. For someone in Europe it maybe natural to enter args of radius in kilometers, not so much for an American. Also inputing distance from earth in millions of km is not self evident. All this can be solved by converting.\n",
    "\n",
    "I personally prefer to the keep the `__init__` function body as clean as possible.\n",
    "\n",
    "### 2.4 Class Method\n",
    "\n",
    "Looks like:\n",
    "\n",
    "```python\n",
    "@classmethod\n",
    "def func_name(cls, args*, kwargs**):\n",
    "    arg = converted_arg\n",
    "\n",
    "    return cls(converted_arg)\n",
    "```\n",
    "\n",
    "Explaination: Methods that are defined inside the class, but not on the instance, explicit calls are required such; `instance = Class.method(args*, kwargs**)`\n",
    "<br> Use case(s): Converting arguments that will enter into the `__init__` function.\n",
    "<br> Syntax: There are some differences here compared to regular function syntax. For example the `cls` argument to refer to the class itself. Also `return` is followed by `cls(args*)`  \n",
    "\n",
    "In this case: A class method will be defined to correct and convert the radius and distance units to kilometers."
   ]
  },
  {
   "cell_type": "code",
   "execution_count": 50,
   "metadata": {},
   "outputs": [],
   "source": [
    "class Planet:\n",
    "    SHAPE = \"spherical\"\n",
    "\n",
    "    @classmethod #This is a reserved keyword in Python to initiate a class method.\n",
    "    def enter_values(cls, name, radius, distance):\n",
    "        \n",
    "        # Here, we'll make sure values are valid for conversion. If not, we'll raise an error.\n",
    "        if isinstance(radius, str) == False:\n",
    "            raise TypeError(\"Radius must be a string\") # Non-string input will raise an error.\n",
    "        elif len(radius.split(\" \")) != 2:\n",
    "            raise ValueError(\"Add unit such 'x km' or 'x mi'\") # No more/less than 2 words are allowed.\n",
    "        elif radius.split(\" \")[1] not in [\"km\", \"mi\"]:\n",
    "            raise ValueError(\"Add unit such 'x km' or 'x mi'\") # The second word of input string must be 'km' or 'mi'.\n",
    "        elif float(radius.split(\" \")[0]) < 0:\n",
    "            raise ValueError(\"Radius must be positive\")\n",
    "        else:\n",
    "            rad_part = radius.split(\" \")\n",
    "        \n",
    "        # Here, we'll make sure the radius is in kilometers, even if entered in miles.\n",
    "        if rad_part[1] == \"km\":\n",
    "            radius = float(rad_part[0])\n",
    "        elif rad_part[1] == \"mi\":\n",
    "            radius = float(rad_part[0])*1.60934\n",
    "        else:\n",
    "            raise ValueError(\"Radius must be in the format 'x km' or 'x mi'\")\n",
    "\n",
    "        # The same for the distance.\n",
    "        if isinstance(distance, str) == False:\n",
    "            raise TypeError(\"Distance must be a string\")\n",
    "        elif len(distance.split(\" \")) < 2:\n",
    "            raise ValueError(\"Add unit such 'x km', 'x mi' or 'x ly'\")\n",
    "        elif \" \" in distance == False:\n",
    "            raise ValueError(\"Insert space between distance and unit in 'x km', 'x mi' or 'x ly'\")\n",
    "        elif float(distance.split(\" \")[0]) < 0:\n",
    "            raise ValueError(\"Distance must be positive\")\n",
    "        else:\n",
    "            dist_part = distance.split(\" \")\n",
    "        \n",
    "        # Again, we'll make sure the distance is shown in million kilometers.\n",
    "        if dist_part[1] == \"km\":\n",
    "            distance = float(dist_part[0])\n",
    "        elif dist_part[1] == \"mi\":\n",
    "            distance = float(dist_part[0])*1.60934\n",
    "        elif dist_part[1] == \"ly\":\n",
    "            distance = float(dist_part[0]) * 9.461e12\n",
    "        else:\n",
    "            raise ValueError(\"Distance must be in the format of 'x million km', 'x million mi' or 'x ly'\")\n",
    "        \n",
    "        # Lastly, we'll return the values with csl() which calls the __init__ method.\n",
    "        return cls(name, radius, distance)\n",
    "\n",
    "\n",
    "    def __init__(self, name, radius, distance):\n",
    "        self.name = name\n",
    "        self.radius = round(radius)\n",
    "        self.distance = round(distance / 1e6)\n",
    "        self.shape = self.SHAPE # This define as instance attribute without explicit input.\n",
    "    \n",
    "    def info(self):\n",
    "        print(f\"{self.name} is a planet with a radius of {self.radius} km and a distance of {self.distance} million km from Earth\")"
   ]
  },
  {
   "cell_type": "markdown",
   "metadata": {},
   "source": [
    "Now the class is ready for use. Instances can be created with units using the `enter_values()` class method.\n",
    "Kilometers, miles and light years will be recognized and converted to kilometers.\n",
    "\n",
    "Now it's time for creating a planet. Kepler 442b."
   ]
  },
  {
   "cell_type": "code",
   "execution_count": 51,
   "metadata": {},
   "outputs": [],
   "source": [
    "kepler442b = Planet.enter_values(\"Kepler-442b\", \"8537 km\", \"1115 ly\")"
   ]
  },
  {
   "cell_type": "markdown",
   "metadata": {},
   "source": [
    "Now call the `info()` method."
   ]
  },
  {
   "cell_type": "code",
   "execution_count": 53,
   "metadata": {},
   "outputs": [
    {
     "name": "stdout",
     "output_type": "stream",
     "text": [
      "Kepler-442b is a planet with a radius of 8537 km and a distance of 10549015000 million km from Earth\n"
     ]
    }
   ],
   "source": [
    "kepler442b.info()"
   ]
  },
  {
   "cell_type": "markdown",
   "metadata": {},
   "source": [
    "Great! \n",
    "\n",
    "Next time we'll do some more advanced operations and explore concepts such as inheritance."
   ]
  }
 ],
 "metadata": {
  "kernelspec": {
   "display_name": "Python 3 (ipykernel)",
   "language": "python",
   "name": "python3"
  },
  "language_info": {
   "codemirror_mode": {
    "name": "ipython",
    "version": 3
   },
   "file_extension": ".py",
   "mimetype": "text/x-python",
   "name": "python",
   "nbconvert_exporter": "python",
   "pygments_lexer": "ipython3",
   "version": "3.9.7"
  },
  "vscode": {
   "interpreter": {
    "hash": "40d3a090f54c6569ab1632332b64b2c03c39dcf918b08424e98f38b5ae0af88f"
   }
  }
 },
 "nbformat": 4,
 "nbformat_minor": 2
}
